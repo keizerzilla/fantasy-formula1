{
 "cells": [
  {
   "cell_type": "code",
   "execution_count": null,
   "id": "eaf92ce4-36bf-4553-8776-80f4760d323f",
   "metadata": {},
   "outputs": [],
   "source": [
    "import numpy as np\n",
    "import pandas as pd\n",
    "import seaborn as sns\n",
    "import matplotlib.pyplot as plt"
   ]
  },
  {
   "cell_type": "code",
   "execution_count": null,
   "id": "0c8fb8ec-33a3-42a2-bdce-acd1b2f13dde",
   "metadata": {},
   "outputs": [],
   "source": [
    "plt.rcParams[\"figure.figsize\"] = (16, 9)\n",
    "sns.set()"
   ]
  },
  {
   "cell_type": "code",
   "execution_count": null,
   "id": "335ee07e-6a91-4192-840b-15d114656752",
   "metadata": {},
   "outputs": [],
   "source": [
    "df = pd.read_csv(\"drivers.csv\")"
   ]
  },
  {
   "cell_type": "code",
   "execution_count": null,
   "id": "dda75206-4aee-4ffe-8194-610395e1b87c",
   "metadata": {},
   "outputs": [],
   "source": [
    "df"
   ]
  },
  {
   "cell_type": "code",
   "execution_count": null,
   "id": "778b1d48-ec94-40b6-b4f0-45dd463a4f16",
   "metadata": {},
   "outputs": [],
   "source": [
    "df[\"pp_ratio\"] = df[\"points\"] / df[\"price\"]"
   ]
  },
  {
   "cell_type": "code",
   "execution_count": null,
   "id": "7bb7583a-00ce-4687-a791-cdd3296adf23",
   "metadata": {},
   "outputs": [],
   "source": [
    "df.sort_values(by=[\"pp_ratio\"], ascending=False)"
   ]
  },
  {
   "cell_type": "code",
   "execution_count": null,
   "id": "d136637b-5925-4c01-96b9-7849577439c8",
   "metadata": {},
   "outputs": [],
   "source": [
    "race_points = df.drop([\"constructor\", \"points\", \"price\", \"pp_ratio\"], axis=1)\n",
    "race_points = race_points.melt(\"driver\", var_name=\"race\", value_name=\"points\")"
   ]
  },
  {
   "cell_type": "code",
   "execution_count": null,
   "id": "cc72cd0b-09b2-4f55-963d-58eaa9328f8b",
   "metadata": {},
   "outputs": [],
   "source": [
    "sns.pointplot(x=\"race\", y=\"points\", hue=\"driver\", data=race_points, palette=\"tab10\")\n",
    "plt.title(\"Evolução dos pontos por corrida\")\n",
    "plt.tight_layout()\n",
    "plt.show()"
   ]
  },
  {
   "cell_type": "code",
   "execution_count": null,
   "id": "ad3e18fa-ecd6-4170-919f-30b60dae5e64",
   "metadata": {},
   "outputs": [],
   "source": [
    "sns.boxplot(x=\"driver\", y=\"points\", data=race_points, palette=\"tab10\")\n",
    "plt.title(\"Variação dos pontos por piloto\")\n",
    "plt.xticks(rotation=45)\n",
    "plt.tight_layout()\n",
    "plt.show()"
   ]
  }
 ],
 "metadata": {
  "kernelspec": {
   "display_name": "Python 3 (ipykernel)",
   "language": "python",
   "name": "python3"
  },
  "language_info": {
   "codemirror_mode": {
    "name": "ipython",
    "version": 3
   },
   "file_extension": ".py",
   "mimetype": "text/x-python",
   "name": "python",
   "nbconvert_exporter": "python",
   "pygments_lexer": "ipython3",
   "version": "3.8.10"
  }
 },
 "nbformat": 4,
 "nbformat_minor": 5
}
